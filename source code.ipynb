{
 "cells": [
  {
   "cell_type": "code",
   "execution_count": 1,
   "id": "119dbfd2-cda6-4893-888c-df0612cfcf13",
   "metadata": {},
   "outputs": [],
   "source": [
    "import pandas as pd\n",
    "import numpy as np"
   ]
  },
  {
   "cell_type": "code",
   "execution_count": 2,
   "id": "63124a0e-2307-46d0-bfa4-777777cd2a9d",
   "metadata": {},
   "outputs": [
    {
     "data": {
      "text/html": [
       "<div>\n",
       "<style scoped>\n",
       "    .dataframe tbody tr th:only-of-type {\n",
       "        vertical-align: middle;\n",
       "    }\n",
       "\n",
       "    .dataframe tbody tr th {\n",
       "        vertical-align: top;\n",
       "    }\n",
       "\n",
       "    .dataframe thead th {\n",
       "        text-align: right;\n",
       "    }\n",
       "</style>\n",
       "<table border=\"1\" class=\"dataframe\">\n",
       "  <thead>\n",
       "    <tr style=\"text-align: right;\">\n",
       "      <th></th>\n",
       "      <th>type</th>\n",
       "      <th>posts</th>\n",
       "    </tr>\n",
       "  </thead>\n",
       "  <tbody>\n",
       "    <tr>\n",
       "      <th>0</th>\n",
       "      <td>INFJ</td>\n",
       "      <td>'http://www.youtube.com/watch?v=qsXHcwe3krw|||...</td>\n",
       "    </tr>\n",
       "    <tr>\n",
       "      <th>1</th>\n",
       "      <td>ENTP</td>\n",
       "      <td>'I'm finding the lack of me in these posts ver...</td>\n",
       "    </tr>\n",
       "    <tr>\n",
       "      <th>2</th>\n",
       "      <td>INTP</td>\n",
       "      <td>'Good one  _____   https://www.youtube.com/wat...</td>\n",
       "    </tr>\n",
       "    <tr>\n",
       "      <th>3</th>\n",
       "      <td>INTJ</td>\n",
       "      <td>'Dear INTP,   I enjoyed our conversation the o...</td>\n",
       "    </tr>\n",
       "    <tr>\n",
       "      <th>4</th>\n",
       "      <td>ENTJ</td>\n",
       "      <td>'You're fired.|||That's another silly misconce...</td>\n",
       "    </tr>\n",
       "    <tr>\n",
       "      <th>...</th>\n",
       "      <td>...</td>\n",
       "      <td>...</td>\n",
       "    </tr>\n",
       "    <tr>\n",
       "      <th>8670</th>\n",
       "      <td>ISFP</td>\n",
       "      <td>'https://www.youtube.com/watch?v=t8edHB_h908||...</td>\n",
       "    </tr>\n",
       "    <tr>\n",
       "      <th>8671</th>\n",
       "      <td>ENFP</td>\n",
       "      <td>'So...if this thread already exists someplace ...</td>\n",
       "    </tr>\n",
       "    <tr>\n",
       "      <th>8672</th>\n",
       "      <td>INTP</td>\n",
       "      <td>'So many questions when i do these things.  I ...</td>\n",
       "    </tr>\n",
       "    <tr>\n",
       "      <th>8673</th>\n",
       "      <td>INFP</td>\n",
       "      <td>'I am very conflicted right now when it comes ...</td>\n",
       "    </tr>\n",
       "    <tr>\n",
       "      <th>8674</th>\n",
       "      <td>INFP</td>\n",
       "      <td>'It has been too long since I have been on per...</td>\n",
       "    </tr>\n",
       "  </tbody>\n",
       "</table>\n",
       "<p>8675 rows × 2 columns</p>\n",
       "</div>"
      ],
      "text/plain": [
       "      type                                              posts\n",
       "0     INFJ  'http://www.youtube.com/watch?v=qsXHcwe3krw|||...\n",
       "1     ENTP  'I'm finding the lack of me in these posts ver...\n",
       "2     INTP  'Good one  _____   https://www.youtube.com/wat...\n",
       "3     INTJ  'Dear INTP,   I enjoyed our conversation the o...\n",
       "4     ENTJ  'You're fired.|||That's another silly misconce...\n",
       "...    ...                                                ...\n",
       "8670  ISFP  'https://www.youtube.com/watch?v=t8edHB_h908||...\n",
       "8671  ENFP  'So...if this thread already exists someplace ...\n",
       "8672  INTP  'So many questions when i do these things.  I ...\n",
       "8673  INFP  'I am very conflicted right now when it comes ...\n",
       "8674  INFP  'It has been too long since I have been on per...\n",
       "\n",
       "[8675 rows x 2 columns]"
      ]
     },
     "execution_count": 2,
     "metadata": {},
     "output_type": "execute_result"
    }
   ],
   "source": [
    "data=pd.read_csv('mbti.csv')\n",
    "data"
   ]
  },
  {
   "cell_type": "code",
   "execution_count": 3,
   "id": "1d63bf44-c00a-4828-be96-76175a9214a8",
   "metadata": {},
   "outputs": [
    {
     "name": "stderr",
     "output_type": "stream",
     "text": [
      "C:\\Users\\Sanjanarao\\AppData\\Local\\Temp\\ipykernel_8172\\769639010.py:2: FutureWarning: The default value of regex will change from True to False in a future version.\n",
      "  data['posts'] = data['posts'].str.replace('|||', ' ')\n"
     ]
    }
   ],
   "source": [
    "# Data cleaning,replace the ||| with space\n",
    "data['posts'] = data['posts'].str.replace('|||', ' ')"
   ]
  },
  {
   "cell_type": "code",
   "execution_count": 4,
   "id": "05fd7add-62e4-45b8-aa02-b927ce0f0e3d",
   "metadata": {},
   "outputs": [
    {
     "data": {
      "text/html": [
       "<div>\n",
       "<style scoped>\n",
       "    .dataframe tbody tr th:only-of-type {\n",
       "        vertical-align: middle;\n",
       "    }\n",
       "\n",
       "    .dataframe tbody tr th {\n",
       "        vertical-align: top;\n",
       "    }\n",
       "\n",
       "    .dataframe thead th {\n",
       "        text-align: right;\n",
       "    }\n",
       "</style>\n",
       "<table border=\"1\" class=\"dataframe\">\n",
       "  <thead>\n",
       "    <tr style=\"text-align: right;\">\n",
       "      <th></th>\n",
       "      <th>type</th>\n",
       "      <th>posts</th>\n",
       "    </tr>\n",
       "  </thead>\n",
       "  <tbody>\n",
       "    <tr>\n",
       "      <th>0</th>\n",
       "      <td>INFJ</td>\n",
       "      <td>' h t t p : / / w w w . y o u t u b e . c o m...</td>\n",
       "    </tr>\n",
       "    <tr>\n",
       "      <th>1</th>\n",
       "      <td>ENTP</td>\n",
       "      <td>' I ' m   f i n d i n g   t h e   l a c k   o...</td>\n",
       "    </tr>\n",
       "    <tr>\n",
       "      <th>2</th>\n",
       "      <td>INTP</td>\n",
       "      <td>' G o o d   o n e     _ _ _ _ _       h t t p...</td>\n",
       "    </tr>\n",
       "    <tr>\n",
       "      <th>3</th>\n",
       "      <td>INTJ</td>\n",
       "      <td>' D e a r   I N T P ,       I   e n j o y e d...</td>\n",
       "    </tr>\n",
       "    <tr>\n",
       "      <th>4</th>\n",
       "      <td>ENTJ</td>\n",
       "      <td>' Y o u ' r e   f i r e d . | | | T h a t ' s...</td>\n",
       "    </tr>\n",
       "  </tbody>\n",
       "</table>\n",
       "</div>"
      ],
      "text/plain": [
       "   type                                              posts\n",
       "0  INFJ   ' h t t p : / / w w w . y o u t u b e . c o m...\n",
       "1  ENTP   ' I ' m   f i n d i n g   t h e   l a c k   o...\n",
       "2  INTP   ' G o o d   o n e     _ _ _ _ _       h t t p...\n",
       "3  INTJ   ' D e a r   I N T P ,       I   e n j o y e d...\n",
       "4  ENTJ   ' Y o u ' r e   f i r e d . | | | T h a t ' s..."
      ]
     },
     "execution_count": 4,
     "metadata": {},
     "output_type": "execute_result"
    }
   ],
   "source": [
    "data.head()"
   ]
  },
  {
   "cell_type": "code",
   "execution_count": 5,
   "id": "4f4b73d6-f354-4c48-ba66-43ec36c6f2bc",
   "metadata": {},
   "outputs": [],
   "source": [
    "# pip install matplotlib"
   ]
  },
  {
   "cell_type": "code",
   "execution_count": 6,
   "id": "84bc6ced-e3c2-45e3-b6d4-c5b77de6c1a2",
   "metadata": {},
   "outputs": [],
   "source": [
    "import matplotlib.pyplot as plt\n",
    "import seaborn as sns"
   ]
  },
  {
   "cell_type": "code",
   "execution_count": 7,
   "id": "5fb6fdbf-ddc5-4de6-a0a7-5f6bf9a09f6e",
   "metadata": {},
   "outputs": [
    {
     "data": {
      "image/png": "[encoded data removed]",
      "text/plain": [
       "<Figure size 1200x600 with 1 Axes>"
      ]
     },
     "metadata": {},
     "output_type": "display_data"
    }
   ],
   "source": [
    "# Plot the distribution of the 16 MBTI types\n",
    "plt.figure(figsize=(12, 6))\n",
    "sns.countplot(data=data, x='type', order=data['type'].value_counts().index, palette='viridis')\n",
    "plt.title('Distribution of MBTI Personality Types')\n",
    "plt.xlabel('MBTI Personality Type')\n",
    "plt.ylabel('Count')\n",
    "plt.xticks(rotation=45)\n",
    "plt.show()"
   ]
  },
  {
   "cell_type": "code",
   "execution_count": 8,
   "id": "2b259d85-379f-4408-bf2e-106c401666f8",
   "metadata": {},
   "outputs": [],
   "source": [
    "# Count the occurrences of each MBTI type\n",
    "mbti_counts = data['type'].value_counts()"
   ]
  },
  {
   "cell_type": "code",
   "execution_count": 9,
   "id": "0ab254ce-4bd4-48e3-b6dd-011769baadf4",
   "metadata": {},
   "outputs": [
    {
     "name": "stdout",
     "output_type": "stream",
     "text": [
      "Distribution of MBTI Personality Types:\n",
      "INFP    1832\n",
      "INFJ    1470\n",
      "INTP    1304\n",
      "INTJ    1091\n",
      "ENTP     685\n",
      "ENFP     675\n",
      "ISTP     337\n",
      "ISFP     271\n",
      "ENTJ     231\n",
      "ISTJ     205\n",
      "ENFJ     190\n",
      "ISFJ     166\n",
      "ESTP      89\n",
      "ESFP      48\n",
      "ESFJ      42\n",
      "ESTJ      39\n",
      "Name: type, dtype: int64\n"
     ]
    }
   ],
   "source": [
    "# Display the distribution of MBTI types\n",
    "print(\"Distribution of MBTI Personality Types:\")\n",
    "print(mbti_counts)"
   ]
  },
  {
   "cell_type": "markdown",
   "id": "da1bac9e",
   "metadata": {},
   "source": []
  },
  {
   "cell_type": "code",
   "execution_count": 10,
   "id": "a13157ad-0257-408c-8237-165ebfbff4f9",
   "metadata": {},
   "outputs": [
    {
     "data": {
      "text/html": [
       "<div>\n",
       "<style scoped>\n",
       "    .dataframe tbody tr th:only-of-type {\n",
       "        vertical-align: middle;\n",
       "    }\n",
       "\n",
       "    .dataframe tbody tr th {\n",
       "        vertical-align: top;\n",
       "    }\n",
       "\n",
       "    .dataframe thead th {\n",
       "        text-align: right;\n",
       "    }\n",
       "</style>\n",
       "<table border=\"1\" class=\"dataframe\">\n",
       "  <thead>\n",
       "    <tr style=\"text-align: right;\">\n",
       "      <th></th>\n",
       "      <th>Introvert-Extrovert</th>\n",
       "      <th>Intuition-Sensing</th>\n",
       "      <th>Thinking-Feeling</th>\n",
       "      <th>Judgment-Perception</th>\n",
       "    </tr>\n",
       "  </thead>\n",
       "  <tbody>\n",
       "    <tr>\n",
       "      <th>0</th>\n",
       "      <td>I</td>\n",
       "      <td>N</td>\n",
       "      <td>F</td>\n",
       "      <td>J</td>\n",
       "    </tr>\n",
       "    <tr>\n",
       "      <th>1</th>\n",
       "      <td>E</td>\n",
       "      <td>N</td>\n",
       "      <td>T</td>\n",
       "      <td>P</td>\n",
       "    </tr>\n",
       "    <tr>\n",
       "      <th>2</th>\n",
       "      <td>I</td>\n",
       "      <td>N</td>\n",
       "      <td>T</td>\n",
       "      <td>P</td>\n",
       "    </tr>\n",
       "    <tr>\n",
       "      <th>3</th>\n",
       "      <td>I</td>\n",
       "      <td>N</td>\n",
       "      <td>T</td>\n",
       "      <td>J</td>\n",
       "    </tr>\n",
       "    <tr>\n",
       "      <th>4</th>\n",
       "      <td>E</td>\n",
       "      <td>N</td>\n",
       "      <td>T</td>\n",
       "      <td>J</td>\n",
       "    </tr>\n",
       "    <tr>\n",
       "      <th>...</th>\n",
       "      <td>...</td>\n",
       "      <td>...</td>\n",
       "      <td>...</td>\n",
       "      <td>...</td>\n",
       "    </tr>\n",
       "    <tr>\n",
       "      <th>8670</th>\n",
       "      <td>I</td>\n",
       "      <td>S</td>\n",
       "      <td>F</td>\n",
       "      <td>P</td>\n",
       "    </tr>\n",
       "    <tr>\n",
       "      <th>8671</th>\n",
       "      <td>E</td>\n",
       "      <td>N</td>\n",
       "      <td>F</td>\n",
       "      <td>P</td>\n",
       "    </tr>\n",
       "    <tr>\n",
       "      <th>8672</th>\n",
       "      <td>I</td>\n",
       "      <td>N</td>\n",
       "      <td>T</td>\n",
       "      <td>P</td>\n",
       "    </tr>\n",
       "    <tr>\n",
       "      <th>8673</th>\n",
       "      <td>I</td>\n",
       "      <td>N</td>\n",
       "      <td>F</td>\n",
       "      <td>P</td>\n",
       "    </tr>\n",
       "    <tr>\n",
       "      <th>8674</th>\n",
       "      <td>I</td>\n",
       "      <td>N</td>\n",
       "      <td>F</td>\n",
       "      <td>P</td>\n",
       "    </tr>\n",
       "  </tbody>\n",
       "</table>\n",
       "<p>8675 rows × 4 columns</p>\n",
       "</div>"
      ],
      "text/plain": [
       "     Introvert-Extrovert Intuition-Sensing Thinking-Feeling  \\\n",
       "0                      I                 N                F   \n",
       "1                      E                 N                T   \n",
       "2                      I                 N                T   \n",
       "3                      I                 N                T   \n",
       "4                      E                 N                T   \n",
       "...                  ...               ...              ...   \n",
       "8670                   I                 S                F   \n",
       "8671                   E                 N                F   \n",
       "8672                   I                 N                T   \n",
       "8673                   I                 N                F   \n",
       "8674                   I                 N                F   \n",
       "\n",
       "     Judgment-Perception  \n",
       "0                      J  \n",
       "1                      P  \n",
       "2                      P  \n",
       "3                      J  \n",
       "4                      J  \n",
       "...                  ...  \n",
       "8670                   P  \n",
       "8671                   P  \n",
       "8672                   P  \n",
       "8673                   P  \n",
       "8674                   P  \n",
       "\n",
       "[8675 rows x 4 columns]"
      ]
     },
     "execution_count": 10,
     "metadata": {},
     "output_type": "execute_result"
    }
   ],
   "source": [
    "# Define a function to get the four dimensions from the MBTI type\n",
    "def get_dimensions(mbti_type):\n",
    "    dimensions = {\n",
    "        'Introvert-Extrovert': mbti_type[0],\n",
    "        'Intuition-Sensing': mbti_type[1],\n",
    "        'Thinking-Feeling': mbti_type[2],\n",
    "        'Judgment-Perception': mbti_type[3]\n",
    "    }\n",
    "    return dimensions\n",
    "data_dimensions = data['type'].apply(get_dimensions).apply(pd.Series)\n",
    "data_dimensions"
   ]
  },
  {
   "cell_type": "code",
   "execution_count": 11,
   "id": "38a9bbbe-6c57-49b0-a505-4b0b822575fa",
   "metadata": {},
   "outputs": [],
   "source": [
    "intro_extro_dist = data_dimensions['Introvert-Extrovert'].value_counts()\n",
    "intuition_sensing_dist = data_dimensions['Intuition-Sensing'].value_counts()\n",
    "thinking_feeling_dist = data_dimensions['Thinking-Feeling'].value_counts()\n",
    "judgment_perception_dist = data_dimensions['Judgment-Perception'].value_counts()"
   ]
  },
  {
   "cell_type": "code",
   "execution_count": 12,
   "id": "aa60affd-e83b-4517-a26e-afac7de1f0c2",
   "metadata": {},
   "outputs": [
    {
     "name": "stdout",
     "output_type": "stream",
     "text": [
      "Distribution of Introvert-Extrovert:\n",
      "I    6676\n",
      "E    1999\n",
      "Name: Introvert-Extrovert, dtype: int64\n",
      "\n",
      "Distribution of Intuition-Sensing:\n",
      "N    7478\n",
      "S    1197\n",
      "Name: Intuition-Sensing, dtype: int64\n",
      "\n",
      "Distribution of Thinking-Feeling:\n",
      "F    4694\n",
      "T    3981\n",
      "Name: Thinking-Feeling, dtype: int64\n",
      "\n",
      "Distribution of Judgment-Perception:\n",
      "P    5241\n",
      "J    3434\n",
      "Name: Judgment-Perception, dtype: int64\n"
     ]
    }
   ],
   "source": [
    "# Display the distributions\n",
    "print(\"Distribution of Introvert-Extrovert:\")\n",
    "print(intro_extro_dist)\n",
    "print(\"\\nDistribution of Intuition-Sensing:\")\n",
    "print(intuition_sensing_dist)\n",
    "print(\"\\nDistribution of Thinking-Feeling:\")\n",
    "print(thinking_feeling_dist)\n",
    "print(\"\\nDistribution of Judgment-Perception:\")\n",
    "print(judgment_perception_dist)"
   ]
  },
  {
   "cell_type": "code",
   "execution_count": 13,
   "id": "a1c40446-1dcf-4542-a267-fab7d1253344",
   "metadata": {},
   "outputs": [
    {
     "name": "stderr",
     "output_type": "stream",
     "text": [
      "[nltk_data] Downloading package stopwords to\n",
      "[nltk_data]     C:\\Users\\Sanjanarao\\AppData\\Roaming\\nltk_data...\n",
      "[nltk_data]   Package stopwords is already up-to-date!\n",
      "[nltk_data] Downloading package punkt to\n",
      "[nltk_data]     C:\\Users\\Sanjanarao\\AppData\\Roaming\\nltk_data...\n",
      "[nltk_data]   Package punkt is already up-to-date!\n"
     ]
    },
    {
     "name": "stdout",
     "output_type": "stream",
     "text": [
      "   type                                             tokens\n",
      "0  INFJ  [intj, moments, sportscenter, top, ten, plays,...\n",
      "1  ENTP  [im, finding, lack, posts, alarmingsex, boring...\n",
      "2  INTP  [good, one, course, say, know, thats, blessing...\n",
      "3  INTJ  [dear, intp, enjoyed, conversation, day, esote...\n",
      "4  ENTJ  [youre, firedthats, another, silly, misconcept...\n"
     ]
    }
   ],
   "source": [
    "# data cleaning (remove punctuations,links,stopwards,converting letter and lowercase)\n",
    "import pandas as pd\n",
    "import re\n",
    "import string\n",
    "import nltk\n",
    "from nltk.corpus import stopwords\n",
    "from nltk.tokenize import word_tokenize\n",
    "\n",
    "# Download stopwords and punkt for word_tokenize\n",
    "nltk.download('stopwords')\n",
    "nltk.download('punkt')\n",
    "\n",
    "# Load the dataset\n",
    "data = pd.read_csv('mbti.csv')\n",
    "\n",
    "# Define function for preprocessing and tokenization\n",
    "def preprocess_and_tokenize(text):\n",
    "    # Convert to lowercase\n",
    "    text = text.lower()\n",
    "    # Remove links\n",
    "    text = re.sub(r'http\\S+|www\\S+|https\\S+', '', text, flags=re.MULTILINE)\n",
    "    # Remove punctuation\n",
    "    text = text.translate(str.maketrans('', '', string.punctuation))\n",
    "    # Tokenize text\n",
    "    tokens = word_tokenize(text)\n",
    "    # Remove stopwords\n",
    "    stop_words = set(stopwords.words('english'))\n",
    "    tokens = [word for word in tokens if word not in stop_words]\n",
    "    return tokens\n",
    "\n",
    "# Apply preprocessing and tokenization to the 'posts' column\n",
    "data['tokens'] = data['posts'].apply(preprocess_and_tokenize)\n",
    "\n",
    "# Display the first few rows of the dataset with tokens\n",
    "print(data[['type', 'tokens']].head())\n"
   ]
  },
  {
   "cell_type": "code",
   "execution_count": 14,
   "id": "beb08d03-5f11-400e-9224-4cd797fb8783",
   "metadata": {},
   "outputs": [
    {
     "name": "stderr",
     "output_type": "stream",
     "text": [
      "[nltk_data] Downloading package punkt to\n",
      "[nltk_data]     C:\\Users\\Sanjanarao\\AppData\\Roaming\\nltk_data...\n",
      "[nltk_data]   Package punkt is already up-to-date!\n"
     ]
    },
    {
     "data": {
      "text/plain": [
       "True"
      ]
     },
     "execution_count": 14,
     "metadata": {},
     "output_type": "execute_result"
    }
   ],
   "source": [
    "# tokenization(preprocessing)\n",
    "from nltk.tokenize import word_tokenize\n",
    "nltk.download('punkt')"
   ]
  },
  {
   "cell_type": "code",
   "execution_count": 15,
   "id": "522ec22c-04c9-4bfa-9119-3111f1f50a29",
   "metadata": {},
   "outputs": [],
   "source": [
    "def preprocess_and_tokenize(text):\n",
    "    tokens = word_tokenize(text)\n",
    "    stop_words = set(stopwords.words('english'))\n",
    "    tokens = [word for word in tokens if word not in stop_words]\n",
    "    return tokens"
   ]
  },
  {
   "cell_type": "code",
   "execution_count": 16,
   "id": "35404ac2-7139-4cf2-9419-9b3b17229618",
   "metadata": {},
   "outputs": [
    {
     "name": "stdout",
     "output_type": "stream",
     "text": [
      "      type                                             tokens\n",
      "0     INFJ  ['http, :, //www.youtube.com/watch, ?, v=qsXHc...\n",
      "1     ENTP  [', I, 'm, finding, lack, posts, alarming.|||S...\n",
      "2     INTP  ['Good, one, _____, https, :, //www.youtube.co...\n",
      "3     INTJ  ['Dear, INTP, ,, I, enjoyed, conversation, day...\n",
      "4     ENTJ  ['You, 're, fired.|||That, 's, another, silly,...\n",
      "...    ...                                                ...\n",
      "8670  ISFP  ['https, :, //www.youtube.com/watch, ?, v=t8ed...\n",
      "8671  ENFP  ['So, ..., thread, already, exists, someplace,...\n",
      "8672  INTP  ['So, many, questions, things, ., I, would, ta...\n",
      "8673  INFP  [', I, conflicted, right, comes, wanting, chil...\n",
      "8674  INFP  ['It, long, since, I, personalitycafe, -, alth...\n",
      "\n",
      "[8675 rows x 2 columns]\n"
     ]
    }
   ],
   "source": [
    "data['tokens'] = data['posts'].apply(preprocess_and_tokenize)\n",
    "print(data[['type', 'tokens']])"
   ]
  },
  {
   "cell_type": "code",
   "execution_count": 17,
   "id": "99d76661-b435-47bf-bc48-1f52f3367388",
   "metadata": {},
   "outputs": [],
   "source": [
    "# !pip install gensim"
   ]
  },
  {
   "cell_type": "code",
   "execution_count": 18,
   "id": "e9efbc4b-eaf8-494e-9681-712f340a8c50",
   "metadata": {},
   "outputs": [],
   "source": [
    "#pip install scipy"
   ]
  },
  {
   "cell_type": "code",
   "execution_count": 19,
   "id": "f6e472ae-d698-4fd6-97ef-c9e4d76c2222",
   "metadata": {},
   "outputs": [],
   "source": [
    "#pip install gensim==4.3.2"
   ]
  },
  {
   "cell_type": "code",
   "execution_count": 20,
   "id": "92d9df79-08aa-4657-aaca-cd0386d3c63f",
   "metadata": {},
   "outputs": [],
   "source": [
    "import scipy\n",
    "# import gensim\n",
    "from gensim.models import Word2Vec"
   ]
  },
  {
   "cell_type": "code",
   "execution_count": 21,
   "id": "e0ed268d-731f-4fde-b0a9-ab6a24cef82b",
   "metadata": {},
   "outputs": [],
   "source": [
    "# print(gensim.__version__)\n",
    "# print(scipy.__version__)"
   ]
  },
  {
   "cell_type": "code",
   "execution_count": 22,
   "id": "1bd0df28-58e8-4d36-9e70-a6ca6e93d9ab",
   "metadata": {},
   "outputs": [],
   "source": [
    "data['tokens'] = data['posts'].apply(preprocess_and_tokenize)"
   ]
  },
  {
   "cell_type": "code",
   "execution_count": 23,
   "id": "d5e20774-98e9-440b-8d3a-78d5fe264599",
   "metadata": {},
   "outputs": [],
   "source": [
    "# Train Word2Vec model\n",
    "model = Word2Vec(data['tokens'], vector_size=100, window=5, min_count=1, workers=4)"
   ]
  },
  {
   "cell_type": "code",
   "execution_count": 24,
   "id": "75117d09-c0fc-4b9b-8efd-c601584b36f7",
   "metadata": {},
   "outputs": [
    {
     "name": "stdout",
     "output_type": "stream",
     "text": [
      "Word: http, Vector shape: (100,), Vector values: [ 0.81223166 -2.8063767   2.4659507   2.2173107   2.569528    3.180039\n",
      " -0.13562566  1.3079574  -1.0636803  -3.2489622   3.276673   -2.325653\n",
      "  1.6939197   1.5871919  -1.0903169  -2.6045291   0.5183039  -1.589177\n",
      " -0.7088624  -0.5810177   1.2160071   1.9667113   1.4602407  -1.4034868\n",
      "  1.0208579   1.0074036   2.3514473  -2.940814    5.6697736   1.976109\n",
      " -5.1887574   3.5913131   1.2115195  -2.2490368   0.14322549  2.732242\n",
      " -1.245056    2.9399633  -1.9615564  -2.1463525  -1.7760211  -2.8081126\n",
      " -0.39266396 -2.39347    -0.19843434  2.303235   -3.728464   -3.146726\n",
      "  5.2013836   2.2243598  -1.141413   -0.5016015   0.9930832   0.38243687\n",
      "  1.5445659   0.19625716 -3.240054    1.7191635  -3.7947688   0.25155637\n",
      " -1.3045652  -7.9196043  -1.8378686   2.5894122  -2.5519469  -2.2319787\n",
      "  3.467528    1.9064388  -4.631513    5.4161944   5.301582    0.12783723\n",
      "  2.2662861  -0.4122461   0.6193578   0.7412797   2.466781    1.4951437\n",
      "  0.5329161   0.92825466  0.9337377   0.23683551 -3.0878835  -2.1183982\n",
      " -2.5007212   0.00904929 -1.4183565   1.0017377   3.0830543  -0.97387487\n",
      "  1.2324085  -0.26651347  2.0775537  -1.3502624  -0.46364704  3.6382473\n",
      " -0.7011745  -4.99052     0.6297648   2.1088436 ]\n"
     ]
    }
   ],
   "source": [
    "# example to get for word\n",
    "word = 'http'\n",
    "vector = model.wv[word]\n",
    "print(f'Word: {word}, Vector shape: {vector.shape}, Vector values: {vector}')"
   ]
  },
  {
   "cell_type": "code",
   "execution_count": 25,
   "id": "88da04e4-ff88-4f19-aaec-2508cadc630a",
   "metadata": {},
   "outputs": [],
   "source": [
    "# Train CBOW model\n",
    "cbow_model = Word2Vec(data['tokens'], vector_size=100, window=5, min_count=1, workers=4, sg=0)\n",
    "\n",
    "# Train Skip-gram model\n",
    "skipgram_model = Word2Vec(data['tokens'], vector_size=100, window=5, min_count=1, workers=4, sg=1)"
   ]
  },
  {
   "cell_type": "code",
   "execution_count": 26,
   "id": "0a505b82-43c5-4211-be18-e667dd19c139",
   "metadata": {},
   "outputs": [
    {
     "name": "stdout",
     "output_type": "stream",
     "text": [
      "CBOW - Word: http, Vector shape: (100,), Vector values: [-0.7307404  -1.7274518   2.9988017   2.685752   -1.0459756   2.5207913\n",
      " -3.2291725   1.0806352   0.32698965 -2.3075256   4.1398773  -0.50254375\n",
      "  2.561344    3.5819383  -1.5061234  -1.7755467  -1.1961453  -1.6029422\n",
      "  0.0135489   0.17239673  0.66126865 -2.6946943   1.5776297  -5.1477613\n",
      "  1.1833655  -1.0804805  -0.03109553 -2.1794705   6.0070395   2.9438546\n",
      " -4.886774    1.3179209   3.0743103  -1.2458106  -2.1643374   3.9994767\n",
      " -1.2324322   1.9990608  -1.6090881  -1.017104   -2.230539   -4.2656655\n",
      " -3.0403636  -4.174294    1.839757   -0.36353162 -3.0814152  -0.6586047\n",
      "  5.476131    1.5402049  -1.9504105  -0.05391538 -2.3643327   0.76364106\n",
      "  1.1249887   0.31847447 -3.3520386   2.469485   -3.4030197   1.633078\n",
      " -1.0296825  -3.803356   -2.7983496   1.0024325  -2.596977   -3.6777768\n",
      "  2.0198677   1.1723187  -4.831192    3.357914    5.979727    2.5574298\n",
      " -0.521955   -0.54081     1.3566399  -1.1519289   1.9807136   1.4892731\n",
      " -0.03906269  1.746975   -1.8307582  -0.63021064 -1.3621193  -0.6967741\n",
      " -3.1733153   1.4200091  -1.1017312   1.7479359   1.4481246  -0.08622009\n",
      "  1.1115884  -0.26382354  0.0682423  -2.8669403   1.3701055   4.0082045\n",
      "  0.0795026  -5.621639   -1.8222297   1.9080696 ]\n"
     ]
    }
   ],
   "source": [
    "word = 'http'\n",
    "cbow_vector = cbow_model.wv[word]\n",
    "print(f'CBOW - Word: {word}, Vector shape: {cbow_vector.shape}, Vector values: {cbow_vector}')"
   ]
  },
  {
   "cell_type": "code",
   "execution_count": 27,
   "id": "f7e55f5c-e9f0-4e62-a670-073466baca56",
   "metadata": {},
   "outputs": [
    {
     "name": "stdout",
     "output_type": "stream",
     "text": [
      "Skip-gram - Word: http, Vector shape: (100,), Vector values: [-0.02511252 -0.36104742 -0.24722433  0.0580814   0.9902346   0.01401452\n",
      "  0.2779613  -0.41067517  0.918947   -0.21309605  0.7642986  -0.27061844\n",
      " -0.27359918  1.8475534  -0.2806362  -1.0498272  -0.99488264 -1.604629\n",
      "  0.692978   -0.31303978  0.25736544  0.125926    0.3768605  -0.88883245\n",
      " -0.6552172   0.02930578  0.16730115 -1.7165828   1.0185727   0.95598805\n",
      " -0.6438027   1.0286195   0.5291732  -0.36378896 -0.58811986  0.65002716\n",
      " -1.2906239   0.42780617 -0.31870383 -0.8587349   0.42260674  0.08665716\n",
      "  0.32798928 -0.11651505  1.1531913   0.51232123 -1.0221     -0.6345196\n",
      "  0.6157332   0.5045243   1.1159736   0.38560468  1.2444636  -0.24688134\n",
      "  0.19032556  0.09644996 -0.07978077 -0.2750724  -0.59209627 -0.70494455\n",
      " -0.01108897 -1.5246199  -0.5380785   0.25387374 -1.418906   -0.02089926\n",
      "  0.76358616  2.310431   -1.1932869   1.7077998  -0.19379425 -0.8040338\n",
      "  0.6351394  -0.20134294  0.4121462   0.2290396  -0.5931519   0.5702661\n",
      "  0.32108817  0.7609094   0.7587904  -0.04269498 -1.19654     0.01740961\n",
      "  0.19801065 -0.04424581 -0.8740366   0.11159059 -0.54705507 -0.6625683\n",
      "  0.6159847  -0.7695498   0.67031384  0.8437469  -0.71392393  0.21344627\n",
      "  0.17565528 -0.69759077  0.57655036 -0.26164338]\n"
     ]
    }
   ],
   "source": [
    "skipgram_vector = skipgram_model.wv[word]\n",
    "print(f'Skip-gram - Word: {word}, Vector shape: {skipgram_vector.shape}, Vector values: {skipgram_vector}')"
   ]
  },
  {
   "cell_type": "code",
   "execution_count": 28,
   "id": "b9179534-cdce-4c14-a13e-234d7ca02c24",
   "metadata": {},
   "outputs": [
    {
     "name": "stdout",
     "output_type": "stream",
     "text": [
      "CBOW - Word: http, Vector shape: (100,), Vector values: [ 7.2593217   0.51949847  3.760573   -0.97891164  1.6113898   2.6620228\n",
      "  6.238255    6.238791    5.985426   -1.8955036 ]\n"
     ]
    }
   ],
   "source": [
    "cbow_model = Word2Vec(vector_size=100, window=5, min_count=1, workers=4, sg=0)\n",
    "\n",
    "# Build vocabulary\n",
    "cbow_model.build_vocab(data['tokens'])\n",
    "\n",
    "# Train the CBOW model with 50 epochs\n",
    "cbow_model.train(data['tokens'], total_examples=cbow_model.corpus_count, epochs=50)\n",
    "\n",
    "# Example: Get vector for a word using CBOW\n",
    "word = 'http'\n",
    "cbow_vector = cbow_model.wv[word]\n",
    "print(f'CBOW - Word: {word}, Vector shape: {cbow_vector.shape}, Vector values: {cbow_vector[:10]}')  # showing first 10 values for brevity"
   ]
  },
  {
   "cell_type": "code",
   "execution_count": 29,
   "id": "3fe6c53f-5102-4702-9702-d124943470fc",
   "metadata": {},
   "outputs": [],
   "source": [
    "# test-train\n",
    "from sklearn.model_selection import train_test_split"
   ]
  },
  {
   "cell_type": "code",
   "execution_count": 30,
   "id": "bb893dec-f3b3-42b6-ad1b-fba16bd5b359",
   "metadata": {},
   "outputs": [],
   "source": [
    "train_data,test_data= train_test_split(data['tokens'],test_size=0.3, random_state=42)"
   ]
  },
  {
   "cell_type": "code",
   "execution_count": 31,
   "id": "dfa136d7-7f2a-485a-aeb0-3f9c4cd86740",
   "metadata": {},
   "outputs": [
    {
     "name": "stdout",
     "output_type": "stream",
     "text": [
      "Training Data Size: 6072\n",
      "Testing Data Size: 2603\n"
     ]
    }
   ],
   "source": [
    "print(f'Training Data Size: {len(train_data)}')\n",
    "print(f'Testing Data Size: {len(test_data)}')"
   ]
  },
  {
   "cell_type": "code",
   "execution_count": 32,
   "id": "c7a9aceb-0c05-4cfb-9c04-90a5a1ada85d",
   "metadata": {},
   "outputs": [
    {
     "name": "stdout",
     "output_type": "stream",
     "text": [
      "Accuracy: 0.6219746446407991\n",
      "Classification Report:\n",
      "              precision    recall  f1-score   support\n",
      "\n",
      "        ENFJ       0.60      0.11      0.18        56\n",
      "        ENFP       0.66      0.49      0.56       196\n",
      "        ENTJ       0.79      0.26      0.39        58\n",
      "        ENTP       0.66      0.49      0.56       201\n",
      "        ESFJ       0.00      0.00      0.00        10\n",
      "        ESFP       0.00      0.00      0.00         9\n",
      "        ESTJ       0.00      0.00      0.00        17\n",
      "        ESTP       1.00      0.04      0.08        25\n",
      "        INFJ       0.64      0.71      0.67       434\n",
      "        INFP       0.60      0.86      0.71       566\n",
      "        INTJ       0.63      0.66      0.64       311\n",
      "        INTP       0.60      0.80      0.68       404\n",
      "        ISFJ       0.92      0.18      0.30        61\n",
      "        ISFP       0.58      0.18      0.27        84\n",
      "        ISTJ       0.62      0.14      0.23        70\n",
      "        ISTP       0.77      0.40      0.52       101\n",
      "\n",
      "    accuracy                           0.62      2603\n",
      "   macro avg       0.57      0.33      0.36      2603\n",
      "weighted avg       0.63      0.62      0.59      2603\n",
      "\n"
     ]
    },
    {
     "name": "stderr",
     "output_type": "stream",
     "text": [
      "C:\\Users\\Sanjanarao\\anaconda\\envs\\1c-miniproject\\Lib\\site-packages\\sklearn\\metrics\\_classification.py:1469: UndefinedMetricWarning: Precision and F-score are ill-defined and being set to 0.0 in labels with no predicted samples. Use `zero_division` parameter to control this behavior.\n",
      "  _warn_prf(average, modifier, msg_start, len(result))\n",
      "C:\\Users\\Sanjanarao\\anaconda\\envs\\1c-miniproject\\Lib\\site-packages\\sklearn\\metrics\\_classification.py:1469: UndefinedMetricWarning: Precision and F-score are ill-defined and being set to 0.0 in labels with no predicted samples. Use `zero_division` parameter to control this behavior.\n",
      "  _warn_prf(average, modifier, msg_start, len(result))\n",
      "C:\\Users\\Sanjanarao\\anaconda\\envs\\1c-miniproject\\Lib\\site-packages\\sklearn\\metrics\\_classification.py:1469: UndefinedMetricWarning: Precision and F-score are ill-defined and being set to 0.0 in labels with no predicted samples. Use `zero_division` parameter to control this behavior.\n",
      "  _warn_prf(average, modifier, msg_start, len(result))\n"
     ]
    }
   ],
   "source": [
    "# import pandas as pd\n",
    "import re\n",
    "import string\n",
    "import nltk\n",
    "from nltk.corpus import stopwords\n",
    "from nltk.tokenize import word_tokenize\n",
    "from sklearn.model_selection import train_test_split\n",
    "from sklearn.feature_extraction.text import TfidfVectorizer\n",
    "from sklearn.linear_model import LogisticRegression\n",
    "from sklearn.metrics import classification_report, accuracy_score\n",
    "\n",
    "# Define function for preprocessing and tokenization\n",
    "def preprocess_and_tokenize(text):\n",
    "    # Convert to lowercase\n",
    "    text = text.lower()\n",
    "    # Remove links\n",
    "    text = re.sub(r'http\\S+|www\\S+|https\\S+', '', text, flags=re.MULTILINE)\n",
    "    # Remove punctuation\n",
    "    text = text.translate(str.maketrans('', '', string.punctuation))\n",
    "    # Tokenize text\n",
    "    tokens = word_tokenize(text)\n",
    "    # Remove stopwords\n",
    "    stop_words = set(stopwords.words('english'))\n",
    "    tokens = [word for word in tokens if word not in stop_words]\n",
    "    return ' '.join(tokens)  # Join tokens to form a processed string\n",
    "\n",
    "# Apply preprocessing and tokenization to the 'posts' column\n",
    "data['processed_posts'] = data['posts'].apply(preprocess_and_tokenize)\n",
    "\n",
    "# Split the data into training and testing sets with a 70-30 ratio\n",
    "X_train, X_test, y_train, y_test = train_test_split(data['processed_posts'], data['type'], test_size=0.3, random_state=42)\n",
    "\n",
    "# Transform the text data into TF-IDF features\n",
    "vectorizer = TfidfVectorizer(max_features=5000)  # Adjust max_features as needed\n",
    "X_train_tfidf = vectorizer.fit_transform(X_train)\n",
    "X_test_tfidf = vectorizer.transform(X_test)\n",
    "\n",
    "# Train a logistic regression model\n",
    "model = LogisticRegression(max_iter=1000)  # Increase max_iter if needed\n",
    "model.fit(X_train_tfidf, y_train)\n",
    "\n",
    "# Make predictions on the test set\n",
    "y_pred = model.predict(X_test_tfidf)\n",
    "\n",
    "# Evaluate the model\n",
    "accuracy = accuracy_score(y_test, y_pred)\n",
    "report = classification_report(y_test, y_pred)\n",
    "\n",
    "print(f'Accuracy: {accuracy}')\n",
    "print('Classification Report:')\n",
    "print(report)\n"
   ]
  },
  {
   "cell_type": "code",
   "execution_count": 33,
   "id": "e517cd8c-440d-4d85-bad7-3be6d6e0d1b1",
   "metadata": {},
   "outputs": [
    {
     "name": "stdout",
     "output_type": "stream",
     "text": [
      "Accuracy: 0.6219746446407991\n",
      "Classification Report:\n",
      "              precision    recall  f1-score   support\n",
      "\n",
      "        ENFJ       0.60      0.11      0.18        56\n",
      "        ENFP       0.66      0.49      0.56       196\n",
      "        ENTJ       0.79      0.26      0.39        58\n",
      "        ENTP       0.66      0.49      0.56       201\n",
      "        ESFJ       0.00      0.00      0.00        10\n",
      "        ESFP       0.00      0.00      0.00         9\n",
      "        ESTJ       0.00      0.00      0.00        17\n",
      "        ESTP       1.00      0.04      0.08        25\n",
      "        INFJ       0.64      0.71      0.67       434\n",
      "        INFP       0.60      0.86      0.71       566\n",
      "        INTJ       0.63      0.66      0.64       311\n",
      "        INTP       0.60      0.80      0.68       404\n",
      "        ISFJ       0.92      0.18      0.30        61\n",
      "        ISFP       0.58      0.18      0.27        84\n",
      "        ISTJ       0.62      0.14      0.23        70\n",
      "        ISTP       0.77      0.40      0.52       101\n",
      "\n",
      "    accuracy                           0.62      2603\n",
      "   macro avg       0.57      0.33      0.36      2603\n",
      "weighted avg       0.63      0.62      0.59      2603\n",
      "\n"
     ]
    },
    {
     "name": "stderr",
     "output_type": "stream",
     "text": [
      "C:\\Users\\Sanjanarao\\anaconda\\envs\\1c-miniproject\\Lib\\site-packages\\sklearn\\metrics\\_classification.py:1469: UndefinedMetricWarning: Precision and F-score are ill-defined and being set to 0.0 in labels with no predicted samples. Use `zero_division` parameter to control this behavior.\n",
      "  _warn_prf(average, modifier, msg_start, len(result))\n",
      "C:\\Users\\Sanjanarao\\anaconda\\envs\\1c-miniproject\\Lib\\site-packages\\sklearn\\metrics\\_classification.py:1469: UndefinedMetricWarning: Precision and F-score are ill-defined and being set to 0.0 in labels with no predicted samples. Use `zero_division` parameter to control this behavior.\n",
      "  _warn_prf(average, modifier, msg_start, len(result))\n",
      "C:\\Users\\Sanjanarao\\anaconda\\envs\\1c-miniproject\\Lib\\site-packages\\sklearn\\metrics\\_classification.py:1469: UndefinedMetricWarning: Precision and F-score are ill-defined and being set to 0.0 in labels with no predicted samples. Use `zero_division` parameter to control this behavior.\n",
      "  _warn_prf(average, modifier, msg_start, len(result))\n"
     ]
    }
   ],
   "source": [
    "# logistic regression\n",
    "from sklearn.linear_model import LogisticRegression\n",
    "from sklearn.metrics import classification_report, accuracy_score\n",
    "\n",
    "# Assume X_train_tfidf, X_test_tfidf, y_train, and y_test are already defined and processed\n",
    "X_train, X_test, y_train, y_test = train_test_split(data['processed_posts'], data['type'], test_size=0.3, random_state=42)\n",
    "# Train a logistic regression model\n",
    "model = LogisticRegression(max_iter=1000)  # Increase max_iter if needed\n",
    "model.fit(X_train_tfidf, y_train)\n",
    "\n",
    "vectorizer = TfidfVectorizer(max_features=5000)  # Adjust max_features as needed\n",
    "X_train_tfidf = vectorizer.fit_transform(X_train)\n",
    "X_test_tfidf = vectorizer.transform(X_test)\n",
    "# Make predictions on the test set\n",
    "y_pred = model.predict(X_test_tfidf)\n",
    "\n",
    "# Evaluate the model\n",
    "accuracy = accuracy_score(y_test, y_pred)\n",
    "report = classification_report(y_test, y_pred)\n",
    "\n",
    "print(f'Accuracy: {accuracy}')\n",
    "print('Classification Report:')\n",
    "print(report)\n"
   ]
  },
  {
   "cell_type": "code",
   "execution_count": 34,
   "id": "5f3dd07f-26e2-4b66-aabf-efeb3ae66a2a",
   "metadata": {},
   "outputs": [
    {
     "name": "stderr",
     "output_type": "stream",
     "text": [
      "C:\\Users\\Sanjanarao\\anaconda\\envs\\1c-miniproject\\Lib\\site-packages\\sklearn\\svm\\_classes.py:32: FutureWarning: The default value of `dual` will change from `True` to `'auto'` in 1.5. Set the value of `dual` explicitly to suppress the warning.\n",
      "  warnings.warn(\n"
     ]
    },
    {
     "name": "stdout",
     "output_type": "stream",
     "text": [
      "Accuracy: 0.6054552439492893\n",
      "Classification Report:\n",
      "              precision    recall  f1-score   support\n",
      "\n",
      "        ENFJ       0.67      0.32      0.43        56\n",
      "        ENFP       0.59      0.55      0.57       196\n",
      "        ENTJ       0.61      0.43      0.51        58\n",
      "        ENTP       0.57      0.54      0.56       201\n",
      "        ESFJ       1.00      0.10      0.18        10\n",
      "        ESFP       0.00      0.00      0.00         9\n",
      "        ESTJ       0.00      0.00      0.00        17\n",
      "        ESTP       0.80      0.32      0.46        25\n",
      "        INFJ       0.58      0.63      0.60       434\n",
      "        INFP       0.64      0.76      0.69       566\n",
      "        INTJ       0.58      0.61      0.59       311\n",
      "        INTP       0.61      0.72      0.66       404\n",
      "        ISFJ       0.78      0.41      0.54        61\n",
      "        ISFP       0.56      0.33      0.42        84\n",
      "        ISTJ       0.62      0.26      0.36        70\n",
      "        ISTP       0.63      0.53      0.58       101\n",
      "\n",
      "    accuracy                           0.61      2603\n",
      "   macro avg       0.58      0.41      0.45      2603\n",
      "weighted avg       0.60      0.61      0.59      2603\n",
      "\n"
     ]
    },
    {
     "name": "stderr",
     "output_type": "stream",
     "text": [
      "C:\\Users\\Sanjanarao\\anaconda\\envs\\1c-miniproject\\Lib\\site-packages\\sklearn\\metrics\\_classification.py:1469: UndefinedMetricWarning: Precision and F-score are ill-defined and being set to 0.0 in labels with no predicted samples. Use `zero_division` parameter to control this behavior.\n",
      "  _warn_prf(average, modifier, msg_start, len(result))\n",
      "C:\\Users\\Sanjanarao\\anaconda\\envs\\1c-miniproject\\Lib\\site-packages\\sklearn\\metrics\\_classification.py:1469: UndefinedMetricWarning: Precision and F-score are ill-defined and being set to 0.0 in labels with no predicted samples. Use `zero_division` parameter to control this behavior.\n",
      "  _warn_prf(average, modifier, msg_start, len(result))\n",
      "C:\\Users\\Sanjanarao\\anaconda\\envs\\1c-miniproject\\Lib\\site-packages\\sklearn\\metrics\\_classification.py:1469: UndefinedMetricWarning: Precision and F-score are ill-defined and being set to 0.0 in labels with no predicted samples. Use `zero_division` parameter to control this behavior.\n",
      "  _warn_prf(average, modifier, msg_start, len(result))\n"
     ]
    }
   ],
   "source": [
    "# linear support vector\n",
    "from sklearn.svm import LinearSVC\n",
    "from sklearn.metrics import classification_report, accuracy_score\n",
    "\n",
    "model= LinearSVC(max_iter=1000)\n",
    "model.fit(X_train_tfidf, y_train)\n",
    "\n",
    "\n",
    "# Make predictions on the test set\n",
    "y_pred = model.predict(X_test_tfidf)\n",
    "\n",
    "# Evaluate the model\n",
    "accuracy = accuracy_score(y_test, y_pred)\n",
    "report = classification_report(y_test, y_pred)\n",
    "\n",
    "print(f'Accuracy: {accuracy}')\n",
    "print('Classification Report:')\n",
    "print(report)"
   ]
  },
  {
   "cell_type": "code",
   "execution_count": 35,
   "id": "a81c8b40-6fb3-41b0-bb22-4cc99d827a38",
   "metadata": {
    "scrolled": true
   },
   "outputs": [
    {
     "name": "stdout",
     "output_type": "stream",
     "text": [
      "Test Accuracy: 0.6254321936227429\n",
      "Test Classification Report:\n",
      "              precision    recall  f1-score   support\n",
      "\n",
      "        ENFJ       0.59      0.30      0.40        56\n",
      "        ENFP       0.61      0.58      0.60       196\n",
      "        ENTJ       0.52      0.47      0.49        58\n",
      "        ENTP       0.59      0.56      0.58       201\n",
      "        ESFJ       0.33      0.20      0.25        10\n",
      "        ESFP       0.00      0.00      0.00         9\n",
      "        ESTJ       0.67      0.12      0.20        17\n",
      "        ESTP       0.62      0.40      0.49        25\n",
      "        INFJ       0.63      0.65      0.64       434\n",
      "        INFP       0.67      0.77      0.72       566\n",
      "        INTJ       0.60      0.61      0.61       311\n",
      "        INTP       0.63      0.73      0.68       404\n",
      "        ISFJ       0.78      0.46      0.58        61\n",
      "        ISFP       0.52      0.38      0.44        84\n",
      "        ISTJ       0.68      0.30      0.42        70\n",
      "        ISTP       0.59      0.57      0.58       101\n",
      "\n",
      "    accuracy                           0.63      2603\n",
      "   macro avg       0.56      0.44      0.48      2603\n",
      "weighted avg       0.62      0.63      0.62      2603\n",
      "\n"
     ]
    },
    {
     "name": "stderr",
     "output_type": "stream",
     "text": [
      "C:\\Users\\Sanjanarao\\anaconda\\envs\\1c-miniproject\\Lib\\site-packages\\sklearn\\metrics\\_classification.py:1469: UndefinedMetricWarning: Precision and F-score are ill-defined and being set to 0.0 in labels with no predicted samples. Use `zero_division` parameter to control this behavior.\n",
      "  _warn_prf(average, modifier, msg_start, len(result))\n",
      "C:\\Users\\Sanjanarao\\anaconda\\envs\\1c-miniproject\\Lib\\site-packages\\sklearn\\metrics\\_classification.py:1469: UndefinedMetricWarning: Precision and F-score are ill-defined and being set to 0.0 in labels with no predicted samples. Use `zero_division` parameter to control this behavior.\n",
      "  _warn_prf(average, modifier, msg_start, len(result))\n",
      "C:\\Users\\Sanjanarao\\anaconda\\envs\\1c-miniproject\\Lib\\site-packages\\sklearn\\metrics\\_classification.py:1469: UndefinedMetricWarning: Precision and F-score are ill-defined and being set to 0.0 in labels with no predicted samples. Use `zero_division` parameter to control this behavior.\n",
      "  _warn_prf(average, modifier, msg_start, len(result))\n"
     ]
    }
   ],
   "source": [
    "# stochastic gradient descent\n",
    "from sklearn.linear_model import SGDClassifier\n",
    "from sklearn.metrics import classification_report, accuracy_score\n",
    "\n",
    "# Assume X_train_tfidf, X_test_tfidf, y_train, and y_test are already defined and processed\n",
    "\n",
    "# Train a Stochastic Gradient Descent classifier\n",
    "sgd_model = SGDClassifier(max_iter=1000, tol=1e-3, random_state=42)\n",
    "sgd_model.fit(X_train_tfidf, y_train)\n",
    "\n",
    "# Make predictions on the test set\n",
    "y_test_pred = sgd_model.predict(X_test_tfidf)\n",
    "\n",
    "# Evaluate the model on the test set\n",
    "test_accuracy = accuracy_score(y_test, y_test_pred)\n",
    "test_report = classification_report(y_test, y_test_pred)\n",
    "\n",
    "print(f'Test Accuracy: {test_accuracy}')\n",
    "print('Test Classification Report:')\n",
    "print(test_report)\n"
   ]
  },
  {
   "cell_type": "code",
   "execution_count": 36,
   "id": "0f249b02-0dbf-4731-b950-fecd8f7b0be9",
   "metadata": {},
   "outputs": [
    {
     "name": "stdout",
     "output_type": "stream",
     "text": [
      "Test Accuracy: 0.5386092969650403\n",
      "Test Classification Report:\n",
      "              precision    recall  f1-score   support\n",
      "\n",
      "        ENFJ       0.00      0.00      0.00        56\n",
      "        ENFP       0.70      0.35      0.47       196\n",
      "        ENTJ       1.00      0.09      0.16        58\n",
      "        ENTP       0.68      0.38      0.49       201\n",
      "        ESFJ       0.00      0.00      0.00        10\n",
      "        ESFP       0.00      0.00      0.00         9\n",
      "        ESTJ       0.00      0.00      0.00        17\n",
      "        ESTP       0.00      0.00      0.00        25\n",
      "        INFJ       0.54      0.68      0.60       434\n",
      "        INFP       0.46      0.86      0.60       566\n",
      "        INTJ       0.60      0.54      0.57       311\n",
      "        INTP       0.59      0.69      0.64       404\n",
      "        ISFJ       0.00      0.00      0.00        61\n",
      "        ISFP       0.67      0.02      0.05        84\n",
      "        ISTJ       1.00      0.01      0.03        70\n",
      "        ISTP       0.86      0.19      0.31       101\n",
      "\n",
      "    accuracy                           0.54      2603\n",
      "   macro avg       0.44      0.24      0.24      2603\n",
      "weighted avg       0.56      0.54      0.49      2603\n",
      "\n"
     ]
    },
    {
     "name": "stderr",
     "output_type": "stream",
     "text": [
      "C:\\Users\\Sanjanarao\\anaconda\\envs\\1c-miniproject\\Lib\\site-packages\\sklearn\\metrics\\_classification.py:1469: UndefinedMetricWarning: Precision and F-score are ill-defined and being set to 0.0 in labels with no predicted samples. Use `zero_division` parameter to control this behavior.\n",
      "  _warn_prf(average, modifier, msg_start, len(result))\n",
      "C:\\Users\\Sanjanarao\\anaconda\\envs\\1c-miniproject\\Lib\\site-packages\\sklearn\\metrics\\_classification.py:1469: UndefinedMetricWarning: Precision and F-score are ill-defined and being set to 0.0 in labels with no predicted samples. Use `zero_division` parameter to control this behavior.\n",
      "  _warn_prf(average, modifier, msg_start, len(result))\n",
      "C:\\Users\\Sanjanarao\\anaconda\\envs\\1c-miniproject\\Lib\\site-packages\\sklearn\\metrics\\_classification.py:1469: UndefinedMetricWarning: Precision and F-score are ill-defined and being set to 0.0 in labels with no predicted samples. Use `zero_division` parameter to control this behavior.\n",
      "  _warn_prf(average, modifier, msg_start, len(result))\n"
     ]
    }
   ],
   "source": [
    "# random forest\n",
    "from sklearn.ensemble import RandomForestClassifier\n",
    "from sklearn.metrics import classification_report, accuracy_score\n",
    "\n",
    "# Assume X_train_tfidf, X_test_tfidf, y_train, and y_test are already defined and processed\n",
    "\n",
    "# Train a Random Forest classifier\n",
    "rf_model = RandomForestClassifier(n_estimators=100, random_state=42)\n",
    "rf_model.fit(X_train_tfidf, y_train)\n",
    "\n",
    "# Make predictions on the test set\n",
    "y_test_pred = rf_model.predict(X_test_tfidf)\n",
    "\n",
    "# Evaluate the model on the test set\n",
    "test_accuracy = accuracy_score(y_test, y_test_pred)\n",
    "test_report = classification_report(y_test, y_test_pred)\n",
    "\n",
    "print(f'Test Accuracy: {test_accuracy}')\n",
    "print('Test Classification Report:')\n",
    "print(test_report)\n"
   ]
  },
  {
   "cell_type": "code",
   "execution_count": 37,
   "id": "c4bb34de-abd8-481b-a9b2-07f76df9472c",
   "metadata": {},
   "outputs": [],
   "source": [
    "# pip install xgboost"
   ]
  },
  {
   "cell_type": "code",
   "execution_count": 38,
   "id": "43044158-ffaa-40e7-b516-331cc4103b14",
   "metadata": {},
   "outputs": [],
   "source": [
    "# from sklearn.preprocessing import LabelEncoder\n",
    "# from xgboost import XGBClassifier\n",
    "# from sklearn.metrics import classification_report, accuracy_score\n",
    "\n",
    "# # Assuming X_train_tfidf, X_test_tfidf, y_train, and y_test are already defined and processed\n",
    "\n",
    "# # Initialize LabelEncoder\n",
    "# label_encoder = LabelEncoder()\n",
    "\n",
    "# # Encode the target variable y_train and y_test\n",
    "# y_train_encoded = label_encoder.fit_transform(y_train)\n",
    "# y_test_encoded = label_encoder.transform(y_test)\n",
    "\n",
    "# # Train an XGBoost classifier\n",
    "# xgb_model = XGBClassifier( eval_metric='mlogloss', random_state=42)\n",
    "# xgb_model.fit(X_train_tfidf, y_train_encoded)\n",
    "\n",
    "# # Make predictions on the test set\n",
    "# y_test_pred = xgb_model.predict(X_test_tfidf)\n",
    "\n",
    "# # Evaluate the model on the test set\n",
    "# test_accuracy = accuracy_score(y_test_encoded, y_test_pred)\n",
    "# test_report = classification_report(y_test_encoded, y_test_pred)\n",
    "\n",
    "# print(f'Test Accuracy: {test_accuracy}')\n",
    "# print('Test Classification Report:')\n",
    "# print(test_report)\n"
   ]
  },
  {
   "cell_type": "code",
   "execution_count": 39,
   "id": "52034ec1-7cf9-42ec-a517-569188c99f75",
   "metadata": {},
   "outputs": [
    {
     "name": "stdout",
     "output_type": "stream",
     "text": [
      "Test Accuracy: 0.6454091432961967\n",
      "Test Classification Report:\n",
      "              precision    recall  f1-score   support\n",
      "\n",
      "           0       0.56      0.16      0.25        56\n",
      "           1       0.62      0.60      0.61       196\n",
      "           2       0.56      0.34      0.43        58\n",
      "           3       0.65      0.57      0.61       201\n",
      "           4       1.00      0.10      0.18        10\n",
      "           5       0.00      0.00      0.00         9\n",
      "           6       1.00      0.12      0.21        17\n",
      "           7       0.73      0.32      0.44        25\n",
      "           8       0.63      0.71      0.67       434\n",
      "           9       0.64      0.79      0.70       566\n",
      "          10       0.63      0.68      0.66       311\n",
      "          11       0.66      0.76      0.71       404\n",
      "          12       0.93      0.43      0.58        61\n",
      "          13       0.57      0.37      0.45        84\n",
      "          14       0.78      0.30      0.43        70\n",
      "          15       0.79      0.57      0.67       101\n",
      "\n",
      "    accuracy                           0.65      2603\n",
      "   macro avg       0.67      0.43      0.47      2603\n",
      "weighted avg       0.65      0.65      0.63      2603\n",
      "\n"
     ]
    }
   ],
   "source": [
    "from sklearn.preprocessing import LabelEncoder\n",
    "from xgboost import XGBClassifier\n",
    "from sklearn.metrics import classification_report, accuracy_score\n",
    "from sklearn.model_selection import train_test_split\n",
    "\n",
    "# Assuming df is your DataFrame with 'processed_posts' and 'type' columns\n",
    "\n",
    "# Split the data into training and testing sets with a 70-30 ratio\n",
    "X_train, X_test, y_train, y_test = train_test_split(data['processed_posts'], data['type'], test_size=0.3, random_state=42)\n",
    "\n",
    "# Initialize LabelEncoder\n",
    "label_encoder = LabelEncoder()\n",
    "\n",
    "# Encode the target variable y_train and y_test\n",
    "y_train_encoded = label_encoder.fit_transform(y_train)\n",
    "y_test_encoded = label_encoder.transform(y_test)\n",
    "\n",
    "# Transform the text data into TF-IDF features with reduced max_features\n",
    "vectorizer = TfidfVectorizer(max_features=2000)  # Reduced max_features to 2000\n",
    "X_train_tfidf = vectorizer.fit_transform(X_train)\n",
    "X_test_tfidf = vectorizer.transform(X_test)\n",
    "\n",
    "# Train an XGBoost classifier with optimized parameters\n",
    "xgb_model = XGBClassifier(\n",
    "    n_estimators=100,         # Reduce the number of trees\n",
    "    max_depth=6,              # Reduce the depth of each tree\n",
    "    learning_rate=0.1,        # Increase the learning rate\n",
    "    subsample=0.8,            # Use 80% of data for growing each tree\n",
    "    colsample_bytree=0.8,     # Use 80% of features for growing each tree\n",
    "    eval_metric='mlogloss',\n",
    "    random_state=42,\n",
    "    n_jobs=-1                 # Utilize all available CPU cores\n",
    ")\n",
    "xgb_model.fit(X_train_tfidf, y_train_encoded)\n",
    "\n",
    "# Make predictions on the test set\n",
    "y_test_pred = xgb_model.predict(X_test_tfidf)\n",
    "\n",
    "# Evaluate the model on the test set\n",
    "test_accuracy = accuracy_score(y_test_encoded, y_test_pred)\n",
    "test_report = classification_report(y_test_encoded, y_test_pred)\n",
    "\n",
    "print(f'Test Accuracy: {test_accuracy}')\n",
    "print('Test Classification Report:')\n",
    "print(test_report)\n"
   ]
  },
  {
   "cell_type": "code",
   "execution_count": 40,
   "id": "08f54b27",
   "metadata": {},
   "outputs": [
    {
     "data": {
      "image/png": "[encoded data removed]",
      "text/plain": [
       "<Figure size 1200x800 with 2 Axes>"
      ]
     },
     "metadata": {},
     "output_type": "display_data"
    }
   ],
   "source": [
    "from sklearn.metrics import confusion_matrix\n",
    "import seaborn as sns\n",
    "import matplotlib.pyplot as plt\n",
    "\n",
    "# Generate the confusion matrix for the test set\n",
    "conf_matrix = confusion_matrix(y_test_encoded, y_test_pred)\n",
    "\n",
    "# Plot the confusion matrix\n",
    "plt.figure(figsize=(12, 8))\n",
    "sns.heatmap(conf_matrix, annot=True, fmt='d', cmap='Blues', xticklabels=label_encoder.inverse_transform(range(16)), yticklabels=label_encoder.inverse_transform(range(16)))\n",
    "plt.title('Confusion Matrix')\n",
    "plt.xlabel('Predicted Label')\n",
    "plt.ylabel('True Label')\n",
    "plt.show()\n"
   ]
  },
  {
   "cell_type": "code",
   "execution_count": 54,
   "id": "d95f567a",
   "metadata": {},
   "outputs": [
    {
     "name": "stdout",
     "output_type": "stream",
     "text": [
      "                 Model  Accuracy\n",
      "0  Logistic Regression  0.621206\n",
      "1           Linear SVM  0.590088\n",
      "2       SGD Classifier  0.623127\n",
      "3        Random Forest  0.560507\n",
      "4              XGBoost  0.640415\n"
     ]
    }
   ],
   "source": [
    "import pandas as pd\n",
    "from sklearn.linear_model import LogisticRegression\n",
    "from sklearn.svm import LinearSVC\n",
    "from sklearn.linear_model import SGDClassifier\n",
    "from sklearn.ensemble import RandomForestClassifier\n",
    "from xgboost import XGBClassifier\n",
    "from sklearn.metrics import accuracy_score\n",
    "from sklearn.preprocessing import LabelEncoder\n",
    "\n",
    "# Initialize dictionary to store model accuracies\n",
    "model_accuracies = {}\n",
    "\n",
    "# Logistic Regression\n",
    "logistic_model = LogisticRegression(max_iter=1000)\n",
    "logistic_model.fit(X_train_tfidf, y_train)\n",
    "y_pred = logistic_model.predict(X_test_tfidf)\n",
    "accuracy = accuracy_score(y_test, y_pred)\n",
    "model_accuracies['Logistic Regression'] = accuracy\n",
    "\n",
    "# Linear Support Vector\n",
    "svm_model = LinearSVC(max_iter=1000, dual='auto')\n",
    "svm_model.fit(X_train_tfidf, y_train)\n",
    "y_pred = svm_model.predict(X_test_tfidf)\n",
    "accuracy = accuracy_score(y_test, y_pred)\n",
    "model_accuracies['Linear SVM'] = accuracy\n",
    "\n",
    "# Stochastic Gradient Descent\n",
    "sgd_model = SGDClassifier(max_iter=1000, tol=1e-3, random_state=42)\n",
    "sgd_model.fit(X_train_tfidf, y_train)\n",
    "y_pred = sgd_model.predict(X_test_tfidf)\n",
    "accuracy = accuracy_score(y_test, y_pred)\n",
    "model_accuracies['SGD Classifier'] = accuracy\n",
    "\n",
    "# Random Forest\n",
    "rf_model = RandomForestClassifier(n_estimators=100, random_state=42)\n",
    "rf_model.fit(X_train_tfidf, y_train)\n",
    "y_pred = rf_model.predict(X_test_tfidf)\n",
    "accuracy = accuracy_score(y_test, y_pred)\n",
    "model_accuracies['Random Forest'] = accuracy\n",
    "\n",
    "# XGBoost\n",
    "xgb_model = XGBClassifier(eval_metric='mlogloss', random_state=42)\n",
    "xgb_model.fit(X_train_tfidf, y_train_encoded)\n",
    "y_pred = xgb_model.predict(X_test_tfidf)\n",
    "accuracy = accuracy_score(y_test_encoded, y_pred)\n",
    "model_accuracies['XGBoost'] = accuracy\n",
    "\n",
    "# Convert model accuracies to DataFrame for better visualization\n",
    "accuracy_df = pd.DataFrame(list(model_accuracies.items()), columns=['Model', 'Accuracy'])\n",
    "print(accuracy_df)\n"
   ]
  },
  {
   "cell_type": "code",
   "execution_count": 58,
   "id": "8edabff6",
   "metadata": {},
   "outputs": [
    {
     "name": "stdout",
     "output_type": "stream",
     "text": [
      "XGBoost Classifier F1 Score: 0.6320559160035519\n"
     ]
    }
   ],
   "source": [
    "from sklearn.metrics import f1_score\n",
    "\n",
    "# Make sure to replace `y_test_encoded` and `y_test_pred` with the appropriate variable names if they are different\n",
    "f1 = f1_score(y_test_encoded, y_test_pred, average='weighted')\n",
    "print(f'XGBoost Classifier F1 Score: {f1}')\n"
   ]
  },
  {
   "cell_type": "code",
   "execution_count": null,
   "id": "71a556d9",
   "metadata": {},
   "outputs": [],
   "source": []
  },
  {
   "cell_type": "code",
   "execution_count": null,
   "id": "2f79d66d",
   "metadata": {},
   "outputs": [],
   "source": []
  },
  {
   "cell_type": "code",
   "execution_count": null,
   "id": "1de0fad5-3daa-4f40-a019-d4c1f646f7fd",
   "metadata": {},
   "outputs": [],
   "source": []
  },
  {
   "cell_type": "code",
   "execution_count": null,
   "id": "b71ea6fa-b5ef-4c87-b4bb-4afbd88baf19",
   "metadata": {},
   "outputs": [],
   "source": []
  },
  {
   "cell_type": "code",
   "execution_count": null,
   "id": "ca027a8f",
   "metadata": {},
   "outputs": [],
   "source": []
  },
  {
   "cell_type": "code",
   "execution_count": null,
   "id": "878d3d29",
   "metadata": {},
   "outputs": [],
   "source": []
  },
  {
   "cell_type": "code",
   "execution_count": null,
   "id": "6c8a107a-4a8e-4b66-ac9b-0bf71774ece3",
   "metadata": {},
   "outputs": [],
   "source": []
  },
  {
   "cell_type": "code",
   "execution_count": null,
   "id": "ba705870-07cd-4557-bca8-c5467bc0ff05",
   "metadata": {},
   "outputs": [],
   "source": []
  },
  {
   "cell_type": "code",
   "execution_count": null,
   "id": "ee6f934a-d111-462c-b53a-7c25bf1fe55f",
   "metadata": {},
   "outputs": [],
   "source": []
  },
  {
   "cell_type": "code",
   "execution_count": null,
   "id": "f08dfe92",
   "metadata": {},
   "outputs": [],
   "source": []
  },
  {
   "cell_type": "code",
   "execution_count": null,
   "id": "59908107",
   "metadata": {},
   "outputs": [],
   "source": []
  },
  {
   "cell_type": "code",
   "execution_count": null,
   "id": "68f3ac4b",
   "metadata": {},
   "outputs": [],
   "source": []
  },
  {
   "cell_type": "code",
   "execution_count": null,
   "id": "48071a7d",
   "metadata": {},
   "outputs": [],
   "source": []
  },
  {
   "cell_type": "code",
   "execution_count": null,
   "id": "7533ef77",
   "metadata": {},
   "outputs": [],
   "source": []
  },
  {
   "cell_type": "code",
   "execution_count": null,
   "id": "6a08d13e",
   "metadata": {},
   "outputs": [],
   "source": []
  },
  {
   "cell_type": "code",
   "execution_count": null,
   "id": "abdb04ac",
   "metadata": {},
   "outputs": [],
   "source": []
  },
  {
   "cell_type": "code",
   "execution_count": null,
   "id": "2d5be3e0",
   "metadata": {},
   "outputs": [],
   "source": []
  },
  {
   "cell_type": "code",
   "execution_count": null,
   "id": "8fba8dc7",
   "metadata": {},
   "outputs": [],
   "source": []
  }
 ],
 "metadata": {
  "kernelspec": {
   "display_name": "Python 3 (ipykernel)",
   "language": "python",
   "name": "python3"
  },
  "language_info": {
   "codemirror_mode": {
    "name": "ipython",
    "version": 3
   },
   "file_extension": ".py",
   "mimetype": "text/x-python",
   "name": "python",
   "nbconvert_exporter": "python",
   "pygments_lexer": "ipython3",
   "version": "3.11.5"
  }
 },
 "nbformat": 4,
 "nbformat_minor": 5
}
